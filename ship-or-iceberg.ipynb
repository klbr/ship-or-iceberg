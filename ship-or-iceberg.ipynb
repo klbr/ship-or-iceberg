{
 "cells": [
  {
   "cell_type": "code",
   "execution_count": null,
   "metadata": {},
   "outputs": [],
   "source": [
    "import numpy as np\n",
    "import pandas as pd\n",
    "\n",
    "np.random.seed(1993)\n",
    "file_path = \"./model/model_weights.hdf5\""
   ]
  },
  {
   "cell_type": "code",
   "execution_count": null,
   "metadata": {},
   "outputs": [],
   "source": [
    "train = pd.read_json(\"../input/train.json\")"
   ]
  },
  {
   "cell_type": "code",
   "execution_count": null,
   "metadata": {},
   "outputs": [],
   "source": [
    "train = train[train['inc_angle'] != 'na']"
   ]
  },
  {
   "cell_type": "code",
   "execution_count": null,
   "metadata": {},
   "outputs": [],
   "source": [
    "train_label = train.is_iceberg\n",
    "train_label = np.array(train_label, dtype='float')"
   ]
  },
  {
   "cell_type": "code",
   "execution_count": null,
   "metadata": {},
   "outputs": [],
   "source": [
    "train_data = train.drop(columns=['is_iceberg', 'id'])"
   ]
  },
  {
   "cell_type": "code",
   "execution_count": null,
   "metadata": {},
   "outputs": [],
   "source": [
    "train_data = train_data[train_data['inc_angle'] != 'na']"
   ]
  },
  {
   "cell_type": "code",
   "execution_count": null,
   "metadata": {},
   "outputs": [],
   "source": [
    "rows = train_data.shape[0]"
   ]
  },
  {
   "cell_type": "code",
   "execution_count": null,
   "metadata": {},
   "outputs": [],
   "source": [
    "angle_train = np.array([x[2] for x in train_data.values])"
   ]
  },
  {
   "cell_type": "code",
   "execution_count": null,
   "metadata": {},
   "outputs": [],
   "source": [
    "def get_imgs(df):\n",
    "    imgs = []\n",
    "    \n",
    "    for i, row in df.iterrows():        \n",
    "        band_1 = np.array(row['band_1']).reshape(75, 75)\n",
    "        band_2 = np.array(row['band_2']).reshape(75, 75)\n",
    "        band_3 = np.sqrt(band_1**2 + band_2**2)\n",
    "                \n",
    "        imgs.append(np.dstack((band_1, band_2, band_3)))\n",
    "\n",
    "    return np.array(imgs)"
   ]
  },
  {
   "cell_type": "code",
   "execution_count": null,
   "metadata": {},
   "outputs": [],
   "source": [
    "data_bands = get_imgs(train_data)"
   ]
  },
  {
   "cell_type": "code",
   "execution_count": null,
   "metadata": {},
   "outputs": [],
   "source": [
    "data_bands.shape"
   ]
  },
  {
   "cell_type": "code",
   "execution_count": null,
   "metadata": {},
   "outputs": [],
   "source": [
    "data_bands_pre = data_bands.reshape(1471, 75 * 75 * 3)"
   ]
  },
  {
   "cell_type": "code",
   "execution_count": null,
   "metadata": {},
   "outputs": [],
   "source": [
    "from sklearn.preprocessing import MinMaxScaler\n",
    "scaler = MinMaxScaler(feature_range=(0,1))\n",
    "scaler_angle = MinMaxScaler(feature_range=(0,1))"
   ]
  },
  {
   "cell_type": "code",
   "execution_count": null,
   "metadata": {},
   "outputs": [],
   "source": [
    "data_bands_pre.reshape(1471, 75, 75, 3)"
   ]
  },
  {
   "cell_type": "code",
   "execution_count": null,
   "metadata": {},
   "outputs": [],
   "source": [
    "data_bands_pre = scaler.fit_transform(data_bands_pre)\n",
    "angle_train = scaler_angle.fit_transform(np.matrix(angle_train).T).reshape(rows)"
   ]
  },
  {
   "cell_type": "code",
   "execution_count": null,
   "metadata": {},
   "outputs": [],
   "source": [
    "imgs_bands = data_bands_pre.reshape((1471, 75, 75, 3))"
   ]
  },
  {
   "cell_type": "code",
   "execution_count": null,
   "metadata": {},
   "outputs": [],
   "source": [
    "from sklearn.model_selection import train_test_split\n",
    "from sklearn.model_selection import GridSearchCV\n",
    "from keras.wrappers.scikit_learn import KerasClassifier"
   ]
  },
  {
   "cell_type": "code",
   "execution_count": null,
   "metadata": {},
   "outputs": [],
   "source": [
    "X, X_test, angle, angle_test, y, y_test = train_test_split(imgs_bands, angle_train, train_label, test_size=0.35, stratify=train_label)"
   ]
  },
  {
   "cell_type": "code",
   "execution_count": null,
   "metadata": {},
   "outputs": [],
   "source": [
    "from keras.callbacks import ModelCheckpoint, Callback, EarlyStopping\n",
    "from keras import metrics\n",
    "\n",
    "def get_callbacks(filepath, patience=2):\n",
    "    es = EarlyStopping('val_loss', patience=patience, mode=\"min\")\n",
    "    msave = ModelCheckpoint(filepath, save_best_only=True)\n",
    "    return [es, msave]"
   ]
  },
  {
   "cell_type": "code",
   "execution_count": null,
   "metadata": {},
   "outputs": [],
   "source": [
    "from keras import layers\n",
    "from keras import models\n",
    "from keras.constraints import maxnorm\n",
    "from keras.layers.normalization import BatchNormalization\n",
    "from keras.layers.merge import Concatenate\n",
    "\n",
    "def create_model(optimizer='rmsprop', init_mode='glorot_uniform', dropout=.2, weight_constraint=4):\n",
    "    bn_model = .0\n",
    "    input_1 = layers.Input(shape=(75, 75, 3), name=\"bands\")\n",
    "    input_2 = layers.Input(shape=[1], name=\"angle\")\n",
    "        \n",
    "    img_1 = layers.Conv2D(48, (4,4), activation='relu', input_shape=(75, 75, 3)) ((BatchNormalization(momentum=bn_model))(input_1))\n",
    "    img_1 = layers.MaxPooling2D((2, 2)) (img_1)\n",
    "    img_1 = layers.Dropout(dropout) (img_1)\n",
    "    \n",
    "    img_1 = layers.Conv2D(32, (3,3), activation='relu', kernel_constraint=maxnorm(weight_constraint)) (img_1)\n",
    "    img_1 = layers.MaxPooling2D((2, 2)) (img_1)\n",
    "    img_1 = layers.Dropout(dropout) (img_1)\n",
    "    \n",
    "    img_1 = layers.Conv2D(16, (2,2), activation='relu', kernel_constraint=maxnorm(weight_constraint)) (img_1)\n",
    "    img_1 = layers.MaxPooling2D((2, 2)) (img_1)\n",
    "    img_1 = layers.Dropout(dropout) (img_1)\n",
    "    img_1 = layers.Flatten() (img_1)    \n",
    "    \n",
    "    img_2 = layers.Conv2D(48, (4,4), activation='softsign') ((BatchNormalization(momentum=bn_model))(input_1))\n",
    "    img_2 = layers.MaxPooling2D((2,2)) (img_2)\n",
    "    img_2 = layers.Dropout(dropout) (img_2)      \n",
    "    \n",
    "    img_2 = layers.Conv2D(32, (3,3), activation='softsign', kernel_constraint=maxnorm(weight_constraint)) (img_2)\n",
    "    img_2 = layers.MaxPooling2D((2, 2)) (img_2)\n",
    "    img_2 = layers.Dropout(dropout) (img_2)\n",
    "    \n",
    "    img_2 = layers.Conv2D(16, (2,2), activation='softsign', kernel_constraint=maxnorm(weight_constraint)) (img_2)\n",
    "    img_2 = layers.MaxPooling2D((2, 2)) (img_2)\n",
    "    img_2 = layers.Dropout(dropout) (img_2) \n",
    "    img_2 = layers.Flatten() (img_2)    \n",
    "    \n",
    "    img_concat =  (Concatenate()([img_1, img_2, BatchNormalization(momentum=bn_model)(input_2)]))\n",
    "    \n",
    "    dense = layers.Dropout(dropout) (layers.Dense(8, activation='relu', kernel_constraint=maxnorm(weight_constraint)) (img_concat))     \n",
    "    \n",
    "    output = layers.Dense(1, activation=\"sigmoid\") (dense)\n",
    "    model = models.Model([input_1,input_2],  output)\n",
    "    model.compile(optimizer=optimizer, loss='binary_crossentropy', metrics=['acc'])\n",
    "    #model.summary()\n",
    "    return model"
   ]
  },
  {
   "cell_type": "code",
   "execution_count": null,
   "metadata": {},
   "outputs": [],
   "source": [
    "callbacks = get_callbacks(filepath=file_path, patience=10)\n",
    "model = create_model()"
   ]
  },
  {
   "cell_type": "code",
   "execution_count": null,
   "metadata": {},
   "outputs": [],
   "source": [
    "model.fit([X, angle], y, \n",
    "          epochs=50, \n",
    "          validation_data=([X_test, angle_test], y_test), \n",
    "          batch_size=16, \n",
    "          callbacks=callbacks)"
   ]
  },
  {
   "cell_type": "code",
   "execution_count": null,
   "metadata": {},
   "outputs": [],
   "source": [
    "from keras.models import model_from_json\n",
    "import os"
   ]
  },
  {
   "cell_type": "code",
   "execution_count": null,
   "metadata": {},
   "outputs": [],
   "source": [
    "model_json = model.to_json()\n",
    "with open('./covnet-v7.json', 'w') as json_file:\n",
    "    json_file.write(model_json)"
   ]
  },
  {
   "cell_type": "code",
   "execution_count": null,
   "metadata": {},
   "outputs": [],
   "source": [
    "json_file = open('./covnet-v7.json', 'r')\n",
    "model = model_from_json(json_file.read())\n",
    "json_file.close()\n",
    "\n",
    "model.load_weights(filepath=file_path)"
   ]
  },
  {
   "cell_type": "code",
   "execution_count": null,
   "metadata": {},
   "outputs": [],
   "source": [
    "model.save_weights('./covnet-v7.h5')"
   ]
  },
  {
   "cell_type": "code",
   "execution_count": null,
   "metadata": {},
   "outputs": [],
   "source": [
    "test = pd.read_json('../input/test.json')"
   ]
  },
  {
   "cell_type": "code",
   "execution_count": null,
   "metadata": {},
   "outputs": [],
   "source": [
    "print(test.shape)\n",
    "rows = test.shape[0]"
   ]
  },
  {
   "cell_type": "code",
   "execution_count": null,
   "metadata": {},
   "outputs": [],
   "source": [
    "angle_test = np.array([x[3] for x in test.values])"
   ]
  },
  {
   "cell_type": "code",
   "execution_count": null,
   "metadata": {},
   "outputs": [],
   "source": [
    "test_bands = get_imgs(test)"
   ]
  },
  {
   "cell_type": "code",
   "execution_count": null,
   "metadata": {},
   "outputs": [],
   "source": [
    "test_bands = test_bands.reshape(rows, 75 * 75 * 3)"
   ]
  },
  {
   "cell_type": "code",
   "execution_count": null,
   "metadata": {},
   "outputs": [],
   "source": [
    "test_bands = scaler.transform(test_bands)\n",
    "angle_test = scaler_angle.transform(np.matrix(angle_test).T).reshape(rows)"
   ]
  },
  {
   "cell_type": "code",
   "execution_count": null,
   "metadata": {},
   "outputs": [],
   "source": [
    "test_bands = test_bands.reshape((rows, 75, 75, 3))"
   ]
  },
  {
   "cell_type": "code",
   "execution_count": null,
   "metadata": {},
   "outputs": [],
   "source": [
    "prediction = model.predict([test_bands, angle_test], verbose=1, batch_size=16)"
   ]
  },
  {
   "cell_type": "code",
   "execution_count": null,
   "metadata": {},
   "outputs": [],
   "source": [
    "submission = pd.DataFrame({'id': test[\"id\"], 'is_iceberg': prediction.reshape((prediction.shape[0]))})\n",
    "submission.head(10)"
   ]
  },
  {
   "cell_type": "code",
   "execution_count": null,
   "metadata": {},
   "outputs": [],
   "source": [
    "submission.to_csv('./submission.csv', encoding='utf-8', float_format='%.8f', index=False)"
   ]
  }
 ],
 "metadata": {
  "kernelspec": {
   "display_name": "Python 3",
   "language": "python",
   "name": "python3"
  },
  "language_info": {
   "codemirror_mode": {
    "name": "ipython",
    "version": 3
   },
   "file_extension": ".py",
   "mimetype": "text/x-python",
   "name": "python",
   "nbconvert_exporter": "python",
   "pygments_lexer": "ipython3",
   "version": "3.6.4"
  }
 },
 "nbformat": 4,
 "nbformat_minor": 2
}
