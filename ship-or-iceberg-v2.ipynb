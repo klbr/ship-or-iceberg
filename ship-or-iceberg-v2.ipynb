{
 "cells": [
  {
   "cell_type": "code",
   "execution_count": 1,
   "metadata": {},
   "outputs": [],
   "source": [
    "import numpy as np\n",
    "import pandas as pd\n",
    "\n",
    "np.random.seed(1993)\n",
    "file_path = \"./model/model_weights.hdf5\""
   ]
  },
  {
   "cell_type": "code",
   "execution_count": 2,
   "metadata": {},
   "outputs": [],
   "source": [
    "train = pd.read_json(\"../input/train.json\")"
   ]
  },
  {
   "cell_type": "code",
   "execution_count": 3,
   "metadata": {},
   "outputs": [],
   "source": [
    "#train.head()"
   ]
  },
  {
   "cell_type": "code",
   "execution_count": 4,
   "metadata": {},
   "outputs": [
    {
     "data": {
      "text/plain": [
       "5625"
      ]
     },
     "execution_count": 4,
     "metadata": {},
     "output_type": "execute_result"
    }
   ],
   "source": [
    "len(train.band_1[0])"
   ]
  },
  {
   "cell_type": "code",
   "execution_count": 5,
   "metadata": {},
   "outputs": [
    {
     "data": {
      "text/plain": [
       "(1604, 5)"
      ]
     },
     "execution_count": 5,
     "metadata": {},
     "output_type": "execute_result"
    }
   ],
   "source": [
    "train.shape"
   ]
  },
  {
   "cell_type": "code",
   "execution_count": 6,
   "metadata": {},
   "outputs": [],
   "source": [
    "train = train[train['inc_angle'] != 'na']"
   ]
  },
  {
   "cell_type": "code",
   "execution_count": 7,
   "metadata": {},
   "outputs": [],
   "source": [
    "train_label = train.is_iceberg\n",
    "train_label = np.array(train_label, dtype='float')"
   ]
  },
  {
   "cell_type": "code",
   "execution_count": 8,
   "metadata": {},
   "outputs": [
    {
     "data": {
      "text/plain": [
       "(1471,)"
      ]
     },
     "execution_count": 8,
     "metadata": {},
     "output_type": "execute_result"
    }
   ],
   "source": [
    "train_label.shape"
   ]
  },
  {
   "cell_type": "code",
   "execution_count": 9,
   "metadata": {},
   "outputs": [],
   "source": [
    "train_data = train.drop(columns=['is_iceberg', 'id'])"
   ]
  },
  {
   "cell_type": "code",
   "execution_count": 10,
   "metadata": {},
   "outputs": [],
   "source": [
    "train_data = train_data[train_data['inc_angle'] != 'na']"
   ]
  },
  {
   "cell_type": "code",
   "execution_count": 11,
   "metadata": {},
   "outputs": [
    {
     "data": {
      "text/plain": [
       "(1471, 3)"
      ]
     },
     "execution_count": 11,
     "metadata": {},
     "output_type": "execute_result"
    }
   ],
   "source": [
    "train_data.shape"
   ]
  },
  {
   "cell_type": "code",
   "execution_count": 12,
   "metadata": {},
   "outputs": [],
   "source": [
    "rows = train_data.shape[0]"
   ]
  },
  {
   "cell_type": "code",
   "execution_count": 13,
   "metadata": {},
   "outputs": [],
   "source": [
    "#train_data.head()"
   ]
  },
  {
   "cell_type": "code",
   "execution_count": 14,
   "metadata": {},
   "outputs": [],
   "source": [
    "#train_data.tail()"
   ]
  },
  {
   "cell_type": "code",
   "execution_count": 15,
   "metadata": {},
   "outputs": [],
   "source": [
    "angle_train = np.array([x[2] for x in train_data.values])"
   ]
  },
  {
   "cell_type": "code",
   "execution_count": 16,
   "metadata": {},
   "outputs": [],
   "source": [
    "#len(angle), len(train_data.values)"
   ]
  },
  {
   "cell_type": "code",
   "execution_count": 17,
   "metadata": {},
   "outputs": [],
   "source": [
    "def get_imgs(df):\n",
    "    imgs = []\n",
    "    \n",
    "    for i, row in df.iterrows():        \n",
    "        band_1 = np.array(row['band_1']).reshape(75, 75)\n",
    "        band_2 = np.array(row['band_2']).reshape(75, 75)\n",
    "        band_3 = (band_1 + band_2) / 2\n",
    "                \n",
    "        imgs.append(np.dstack((band_1, band_2, band_3)))\n",
    "\n",
    "    return np.array(imgs)"
   ]
  },
  {
   "cell_type": "code",
   "execution_count": 18,
   "metadata": {},
   "outputs": [],
   "source": [
    "data_bands = get_imgs(train_data)"
   ]
  },
  {
   "cell_type": "code",
   "execution_count": 19,
   "metadata": {},
   "outputs": [
    {
     "data": {
      "text/plain": [
       "(1471, 75, 75, 3)"
      ]
     },
     "execution_count": 19,
     "metadata": {},
     "output_type": "execute_result"
    }
   ],
   "source": [
    "data_bands.shape"
   ]
  },
  {
   "cell_type": "code",
   "execution_count": 20,
   "metadata": {},
   "outputs": [
    {
     "data": {
      "text/plain": [
       "array([-27.878361 , -27.154118 , -27.5162395])"
      ]
     },
     "execution_count": 20,
     "metadata": {},
     "output_type": "execute_result"
    }
   ],
   "source": [
    "data_bands[0][0][0]"
   ]
  },
  {
   "cell_type": "code",
   "execution_count": 21,
   "metadata": {},
   "outputs": [],
   "source": [
    "from sklearn.preprocessing import MinMaxScaler\n",
    "scaler = MinMaxScaler(feature_range=(0,1))\n",
    "scaler_angle = MinMaxScaler(feature_range=(0,2))"
   ]
  },
  {
   "cell_type": "code",
   "execution_count": 22,
   "metadata": {},
   "outputs": [],
   "source": [
    "data_bands_pre = data_bands.reshape(1471, 75 * 75 * 3)"
   ]
  },
  {
   "cell_type": "code",
   "execution_count": 23,
   "metadata": {},
   "outputs": [
    {
     "data": {
      "text/plain": [
       "array([-27.878361 , -27.154118 , -27.5162395])"
      ]
     },
     "execution_count": 23,
     "metadata": {},
     "output_type": "execute_result"
    }
   ],
   "source": [
    "data_bands_pre.reshape(1471, 75, 75, 3)[0][0][0]"
   ]
  },
  {
   "cell_type": "code",
   "execution_count": 24,
   "metadata": {},
   "outputs": [],
   "source": [
    "data_bands_pre = scaler.fit_transform(data_bands_pre)\n",
    "angle_train = scaler_angle.fit_transform(np.matrix(angle_train).T).reshape(rows)"
   ]
  },
  {
   "cell_type": "code",
   "execution_count": 25,
   "metadata": {},
   "outputs": [],
   "source": [
    "imgs_bands = data_bands_pre.reshape((1471, 75, 75, 3))"
   ]
  },
  {
   "cell_type": "code",
   "execution_count": 26,
   "metadata": {},
   "outputs": [
    {
     "data": {
      "text/plain": [
       "array([0.19049476, 0.47100015, 0.20687876])"
      ]
     },
     "execution_count": 26,
     "metadata": {},
     "output_type": "execute_result"
    }
   ],
   "source": [
    "imgs_bands[0][0][0]"
   ]
  },
  {
   "cell_type": "code",
   "execution_count": 27,
   "metadata": {},
   "outputs": [
    {
     "name": "stderr",
     "output_type": "stream",
     "text": [
      "/home/kleber/anaconda3/envs/tensorflow-cpu/lib/python3.6/site-packages/h5py/__init__.py:36: FutureWarning: Conversion of the second argument of issubdtype from `float` to `np.floating` is deprecated. In future, it will be treated as `np.float64 == np.dtype(float).type`.\n",
      "  from ._conv import register_converters as _register_converters\n",
      "Using TensorFlow backend.\n"
     ]
    }
   ],
   "source": [
    "from sklearn.model_selection import train_test_split\n",
    "from sklearn.model_selection import GridSearchCV\n",
    "from keras.wrappers.scikit_learn import KerasClassifier"
   ]
  },
  {
   "cell_type": "code",
   "execution_count": 28,
   "metadata": {},
   "outputs": [],
   "source": [
    "X, X_test, angle, angle_test, y, y_test = train_test_split(imgs_bands, angle_train, train_label, test_size=0.3, stratify=train_label)"
   ]
  },
  {
   "cell_type": "code",
   "execution_count": 29,
   "metadata": {},
   "outputs": [
    {
     "data": {
      "text/plain": [
       "((1029, 75, 75, 3), (1029,), (1029,), (442,))"
      ]
     },
     "execution_count": 29,
     "metadata": {},
     "output_type": "execute_result"
    }
   ],
   "source": [
    "X.shape, angle.shape, y.shape, y_test.shape"
   ]
  },
  {
   "cell_type": "code",
   "execution_count": 30,
   "metadata": {},
   "outputs": [],
   "source": [
    "from keras.callbacks import ModelCheckpoint, Callback, EarlyStopping\n",
    "from keras import metrics\n",
    "\n",
    "def get_callbacks(filepath, patience=2):\n",
    "    es = EarlyStopping('val_loss', patience=patience, mode=\"min\")\n",
    "    msave = ModelCheckpoint(filepath, save_best_only=True)\n",
    "    return [es, msave]"
   ]
  },
  {
   "cell_type": "code",
   "execution_count": 31,
   "metadata": {},
   "outputs": [],
   "source": [
    "from keras import layers\n",
    "from keras import models\n",
    "from keras.constraints import maxnorm\n",
    "from keras.layers.normalization import BatchNormalization\n",
    "from keras.layers.merge import Concatenate\n",
    "\n",
    "def create_model(optimizer='RMSprop', init_mode='glorot_uniform', activation='relu', map_conv=[(4, 4), (3, 3), (2, 2)], out_layers=[64,64,32,32,64], dropout=.09, weight_constraint=4):\n",
    "    bn_model = .50\n",
    "    input_1 = layers.Input(shape=(75, 75, 3), name=\"X_1\")\n",
    "    input_2 = layers.Input(shape=[1], name=\"angle\")\n",
    "        \n",
    "    img_1 = layers.Conv2D(out_layers[0], map_conv[0], activation=activation, input_shape=(75, 75, 3)) ((BatchNormalization(momentum=bn_model))(input_1))\n",
    "    img_1 = layers.MaxPooling2D((2, 2)) (img_1)\n",
    "    img_1 = layers.Dropout(dropout) (img_1)\n",
    "    \n",
    "    img_1 = layers.Conv2D(out_layers[1], map_conv[1], activation=activation, kernel_constraint=maxnorm(weight_constraint)) (img_1)\n",
    "    img_1 = layers.MaxPooling2D((2, 2)) (img_1)\n",
    "    img_1 = layers.Dropout(dropout) (img_1)\n",
    "    \n",
    "    img_1 = layers.Conv2D(out_layers[3], map_conv[2], activation=activation, kernel_constraint=maxnorm(weight_constraint)) (img_1)\n",
    "    img_1 = layers.MaxPooling2D((2, 2)) (img_1)\n",
    "    img_1 = layers.Dropout(dropout) (img_1)\n",
    "    img_1 = layers.GlobalMaxPooling2D() (img_1)    \n",
    "    \n",
    "    img_2 = layers.Conv2D(out_layers[0], kernel_size = (3,3), activation=activation) ((BatchNormalization(momentum=bn_model))(input_1))\n",
    "    img_2 = layers.MaxPooling2D((2,2)) (img_2)\n",
    "    img_2 = layers.Dropout(dropout) (img_2)\n",
    "    img_2 = layers.GlobalMaxPooling2D() (img_2)    \n",
    "    \n",
    "    img_concat =  (Concatenate()([img_1, img_2, BatchNormalization(momentum=bn_model)(input_2)]))\n",
    "    \n",
    "    dense = layers.Dropout(dropout) (BatchNormalization(momentum=bn_model) (layers.Dense(out_layers[4], activation=activation, kernel_constraint=maxnorm(weight_constraint)) (img_concat)))     \n",
    "    \n",
    "    output = layers.Dense(1, activation=\"sigmoid\") (dense)\n",
    "    model = models.Model([input_1,input_2],  output)\n",
    "    model.compile(optimizer=optimizer, loss='binary_crossentropy', metrics=['acc'])\n",
    "    #model.summary()\n",
    "    return model"
   ]
  },
  {
   "cell_type": "code",
   "execution_count": 32,
   "metadata": {},
   "outputs": [],
   "source": [
    "callbacks = get_callbacks(filepath=file_path, patience=40)\n",
    "\n",
    "model = create_model()\n",
    "#model = KerasClassifier(build_fn=create_model, verbose=2)\n",
    "#loss = ['binary_crossentropy']\n",
    "#epochs = [10]\n",
    "#out_layers=[[64,128,32,32,64], [64,64,32,32,64], [64,32,32,32,64]]\n",
    "\n",
    "#param_grid = dict(batch_size=[2], epochs=epochs)\n",
    "\n",
    "#grid = GridSearchCV(estimator=model, param_grid=param_grid, n_jobs=-1)"
   ]
  },
  {
   "cell_type": "code",
   "execution_count": 33,
   "metadata": {},
   "outputs": [
    {
     "name": "stdout",
     "output_type": "stream",
     "text": [
      "Train on 1029 samples, validate on 442 samples\n",
      "Epoch 1/300\n",
      "1029/1029 [==============================] - 39s 38ms/step - loss: 0.6960 - acc: 0.6006 - val_loss: 0.5544 - val_acc: 0.7104\n",
      "Epoch 2/300\n",
      "1029/1029 [==============================] - 39s 37ms/step - loss: 0.6046 - acc: 0.6676 - val_loss: 0.6312 - val_acc: 0.7195\n",
      "Epoch 3/300\n",
      "1029/1029 [==============================] - 38s 37ms/step - loss: 0.5126 - acc: 0.7638 - val_loss: 0.3962 - val_acc: 0.8326\n",
      "Epoch 4/300\n",
      "1029/1029 [==============================] - 39s 37ms/step - loss: 0.4608 - acc: 0.7823 - val_loss: 0.5213 - val_acc: 0.7579\n",
      "Epoch 5/300\n",
      "1029/1029 [==============================] - 39s 37ms/step - loss: 0.4511 - acc: 0.7920 - val_loss: 0.4013 - val_acc: 0.8213\n",
      "Epoch 6/300\n",
      "1029/1029 [==============================] - 38s 37ms/step - loss: 0.4457 - acc: 0.7959 - val_loss: 0.5196 - val_acc: 0.7443\n",
      "Epoch 7/300\n",
      "1029/1029 [==============================] - 38s 37ms/step - loss: 0.4476 - acc: 0.8027 - val_loss: 0.3268 - val_acc: 0.8643\n",
      "Epoch 8/300\n",
      "1029/1029 [==============================] - 39s 38ms/step - loss: 0.4169 - acc: 0.8095 - val_loss: 0.3212 - val_acc: 0.8801\n",
      "Epoch 9/300\n",
      "1029/1029 [==============================] - 38s 37ms/step - loss: 0.4005 - acc: 0.8134 - val_loss: 0.4593 - val_acc: 0.8122\n",
      "Epoch 10/300\n",
      "1029/1029 [==============================] - 39s 38ms/step - loss: 0.3900 - acc: 0.8299 - val_loss: 0.7079 - val_acc: 0.7036\n",
      "Epoch 11/300\n",
      "1029/1029 [==============================] - 38s 37ms/step - loss: 0.3953 - acc: 0.8397 - val_loss: 0.3390 - val_acc: 0.8439\n",
      "Epoch 12/300\n",
      "1029/1029 [==============================] - 39s 38ms/step - loss: 0.3557 - acc: 0.8445 - val_loss: 0.3056 - val_acc: 0.8643\n",
      "Epoch 13/300\n",
      "1029/1029 [==============================] - 39s 38ms/step - loss: 0.3659 - acc: 0.8533 - val_loss: 0.4109 - val_acc: 0.8190\n",
      "Epoch 14/300\n",
      "1029/1029 [==============================] - 39s 38ms/step - loss: 0.3412 - acc: 0.8552 - val_loss: 0.4131 - val_acc: 0.8235\n",
      "Epoch 15/300\n",
      "1029/1029 [==============================] - 39s 38ms/step - loss: 0.3041 - acc: 0.8727 - val_loss: 0.4508 - val_acc: 0.8167\n",
      "Epoch 16/300\n",
      "1029/1029 [==============================] - 39s 38ms/step - loss: 0.3362 - acc: 0.8639 - val_loss: 0.9255 - val_acc: 0.7353\n",
      "Epoch 17/300\n",
      "1029/1029 [==============================] - 39s 37ms/step - loss: 0.3178 - acc: 0.8707 - val_loss: 0.2637 - val_acc: 0.8914\n",
      "Epoch 18/300\n",
      "1029/1029 [==============================] - 39s 38ms/step - loss: 0.3179 - acc: 0.8717 - val_loss: 0.2983 - val_acc: 0.8891\n",
      "Epoch 19/300\n",
      "1029/1029 [==============================] - 39s 38ms/step - loss: 0.3216 - acc: 0.8678 - val_loss: 0.2961 - val_acc: 0.8982\n",
      "Epoch 20/300\n",
      "1029/1029 [==============================] - 39s 38ms/step - loss: 0.3077 - acc: 0.8688 - val_loss: 0.5099 - val_acc: 0.7919\n",
      "Epoch 21/300\n",
      "1029/1029 [==============================] - 39s 38ms/step - loss: 0.2879 - acc: 0.8844 - val_loss: 0.2591 - val_acc: 0.9005\n",
      "Epoch 22/300\n",
      "1029/1029 [==============================] - 39s 37ms/step - loss: 0.3111 - acc: 0.8707 - val_loss: 0.3209 - val_acc: 0.8529\n",
      "Epoch 23/300\n",
      "1029/1029 [==============================] - 39s 37ms/step - loss: 0.2767 - acc: 0.8873 - val_loss: 0.7253 - val_acc: 0.7738\n",
      "Epoch 24/300\n",
      "1029/1029 [==============================] - 39s 38ms/step - loss: 0.2604 - acc: 0.9077 - val_loss: 0.3478 - val_acc: 0.8529\n",
      "Epoch 25/300\n",
      "1029/1029 [==============================] - 39s 38ms/step - loss: 0.2472 - acc: 0.9009 - val_loss: 0.5355 - val_acc: 0.7986\n",
      "Epoch 26/300\n",
      "1029/1029 [==============================] - 39s 38ms/step - loss: 0.2698 - acc: 0.8912 - val_loss: 0.4037 - val_acc: 0.8394\n",
      "Epoch 27/300\n",
      "1029/1029 [==============================] - 39s 38ms/step - loss: 0.2830 - acc: 0.8785 - val_loss: 0.4217 - val_acc: 0.8348\n",
      "Epoch 28/300\n",
      "1029/1029 [==============================] - 39s 38ms/step - loss: 0.2676 - acc: 0.8989 - val_loss: 0.3033 - val_acc: 0.8869\n",
      "Epoch 29/300\n",
      "1029/1029 [==============================] - 39s 38ms/step - loss: 0.2364 - acc: 0.9116 - val_loss: 0.2426 - val_acc: 0.9005\n",
      "Epoch 30/300\n",
      "1029/1029 [==============================] - 40s 39ms/step - loss: 0.2625 - acc: 0.9048 - val_loss: 0.2903 - val_acc: 0.8959\n",
      "Epoch 31/300\n",
      "1029/1029 [==============================] - 39s 38ms/step - loss: 0.2581 - acc: 0.8950 - val_loss: 0.2888 - val_acc: 0.8846\n",
      "Epoch 32/300\n",
      "1029/1029 [==============================] - 39s 38ms/step - loss: 0.2366 - acc: 0.9086 - val_loss: 0.3191 - val_acc: 0.8801\n",
      "Epoch 33/300\n",
      "1029/1029 [==============================] - 39s 38ms/step - loss: 0.2419 - acc: 0.9193 - val_loss: 0.3473 - val_acc: 0.8439\n",
      "Epoch 34/300\n",
      "1029/1029 [==============================] - 39s 38ms/step - loss: 0.2426 - acc: 0.8980 - val_loss: 0.6481 - val_acc: 0.7670\n",
      "Epoch 35/300\n",
      "1029/1029 [==============================] - 39s 38ms/step - loss: 0.2096 - acc: 0.9125 - val_loss: 0.8450 - val_acc: 0.7398\n",
      "Epoch 36/300\n",
      "1029/1029 [==============================] - 39s 38ms/step - loss: 0.1755 - acc: 0.9242 - val_loss: 0.6347 - val_acc: 0.7624\n",
      "Epoch 37/300\n",
      "1029/1029 [==============================] - 39s 38ms/step - loss: 0.1437 - acc: 0.9466 - val_loss: 0.6191 - val_acc: 0.8100\n",
      "Epoch 38/300\n",
      "1029/1029 [==============================] - 39s 38ms/step - loss: 0.1768 - acc: 0.9388 - val_loss: 0.3675 - val_acc: 0.8575\n",
      "Epoch 39/300\n",
      "1029/1029 [==============================] - 39s 38ms/step - loss: 0.2372 - acc: 0.9038 - val_loss: 0.4517 - val_acc: 0.8643\n",
      "Epoch 40/300\n",
      "1029/1029 [==============================] - 39s 38ms/step - loss: 0.2029 - acc: 0.9310 - val_loss: 0.3249 - val_acc: 0.8824\n",
      "Epoch 41/300\n",
      "1029/1029 [==============================] - 39s 38ms/step - loss: 0.1703 - acc: 0.9368 - val_loss: 0.3184 - val_acc: 0.8552\n",
      "Epoch 42/300\n",
      "1029/1029 [==============================] - 39s 38ms/step - loss: 0.2016 - acc: 0.9252 - val_loss: 0.2885 - val_acc: 0.8778\n",
      "Epoch 43/300\n",
      "1029/1029 [==============================] - 39s 38ms/step - loss: 0.2109 - acc: 0.9213 - val_loss: 0.3157 - val_acc: 0.8688\n",
      "Epoch 44/300\n",
      "1029/1029 [==============================] - 39s 38ms/step - loss: 0.1774 - acc: 0.9417 - val_loss: 0.3239 - val_acc: 0.8620\n",
      "Epoch 45/300\n",
      "1029/1029 [==============================] - 39s 38ms/step - loss: 0.2126 - acc: 0.9291 - val_loss: 0.2977 - val_acc: 0.8756\n",
      "Epoch 46/300\n",
      "1029/1029 [==============================] - 39s 38ms/step - loss: 0.2144 - acc: 0.9339 - val_loss: 0.3279 - val_acc: 0.8529\n",
      "Epoch 47/300\n",
      "1029/1029 [==============================] - 39s 38ms/step - loss: 0.1953 - acc: 0.9261 - val_loss: 0.2473 - val_acc: 0.9005\n",
      "Epoch 48/300\n",
      "1029/1029 [==============================] - 39s 38ms/step - loss: 0.2108 - acc: 0.9281 - val_loss: 0.3481 - val_acc: 0.8394\n",
      "Epoch 49/300\n",
      "1029/1029 [==============================] - 39s 38ms/step - loss: 0.1596 - acc: 0.9466 - val_loss: 0.2874 - val_acc: 0.8824\n",
      "Epoch 50/300\n",
      "1029/1029 [==============================] - 39s 38ms/step - loss: 0.1789 - acc: 0.9397 - val_loss: 0.3218 - val_acc: 0.8869\n",
      "Epoch 51/300\n",
      "1029/1029 [==============================] - 39s 38ms/step - loss: 0.2236 - acc: 0.9184 - val_loss: 0.3051 - val_acc: 0.8801\n",
      "Epoch 52/300\n",
      "1029/1029 [==============================] - 39s 38ms/step - loss: 0.2088 - acc: 0.9271 - val_loss: 0.3700 - val_acc: 0.8665\n",
      "Epoch 53/300\n",
      "1029/1029 [==============================] - 39s 38ms/step - loss: 0.1979 - acc: 0.9281 - val_loss: 0.6444 - val_acc: 0.7760\n",
      "Epoch 54/300\n",
      "1029/1029 [==============================] - 39s 38ms/step - loss: 0.1794 - acc: 0.9466 - val_loss: 0.4441 - val_acc: 0.7986\n",
      "Epoch 55/300\n",
      "1029/1029 [==============================] - 39s 38ms/step - loss: 0.2235 - acc: 0.9300 - val_loss: 0.2852 - val_acc: 0.8575\n",
      "Epoch 56/300\n",
      "1029/1029 [==============================] - 39s 38ms/step - loss: 0.2063 - acc: 0.9368 - val_loss: 0.2838 - val_acc: 0.8756\n",
      "Epoch 57/300\n",
      "1029/1029 [==============================] - 39s 38ms/step - loss: 0.1569 - acc: 0.9592 - val_loss: 0.2824 - val_acc: 0.8914\n",
      "Epoch 58/300\n",
      "1029/1029 [==============================] - 39s 38ms/step - loss: 0.1302 - acc: 0.9563 - val_loss: 0.3562 - val_acc: 0.8665\n",
      "Epoch 59/300\n",
      "1029/1029 [==============================] - 39s 38ms/step - loss: 0.1383 - acc: 0.9631 - val_loss: 0.3214 - val_acc: 0.8733\n",
      "Epoch 60/300\n"
     ]
    },
    {
     "name": "stdout",
     "output_type": "stream",
     "text": [
      "1029/1029 [==============================] - 38s 37ms/step - loss: 0.1496 - acc: 0.9514 - val_loss: 0.4051 - val_acc: 0.8439\n",
      "Epoch 61/300\n",
      "1029/1029 [==============================] - 38s 37ms/step - loss: 0.1377 - acc: 0.9553 - val_loss: 0.3666 - val_acc: 0.8688\n",
      "Epoch 62/300\n",
      "1029/1029 [==============================] - 39s 37ms/step - loss: 0.2163 - acc: 0.9203 - val_loss: 0.4796 - val_acc: 0.8348\n",
      "Epoch 63/300\n",
      "1029/1029 [==============================] - 38s 37ms/step - loss: 0.1642 - acc: 0.9407 - val_loss: 0.3223 - val_acc: 0.8688\n",
      "Epoch 64/300\n",
      "1029/1029 [==============================] - 39s 38ms/step - loss: 0.1600 - acc: 0.9475 - val_loss: 0.8578 - val_acc: 0.7851\n",
      "Epoch 65/300\n",
      "1029/1029 [==============================] - 39s 38ms/step - loss: 0.1324 - acc: 0.9602 - val_loss: 0.3572 - val_acc: 0.8665\n",
      "Epoch 66/300\n",
      "1029/1029 [==============================] - 39s 37ms/step - loss: 0.1462 - acc: 0.9553 - val_loss: 0.3268 - val_acc: 0.8688\n",
      "Epoch 67/300\n",
      "1029/1029 [==============================] - 39s 38ms/step - loss: 0.1365 - acc: 0.9495 - val_loss: 0.2982 - val_acc: 0.8733\n",
      "Epoch 68/300\n",
      "1029/1029 [==============================] - 38s 37ms/step - loss: 0.1446 - acc: 0.9485 - val_loss: 0.7703 - val_acc: 0.7443\n",
      "Epoch 69/300\n",
      "1029/1029 [==============================] - 38s 37ms/step - loss: 0.1208 - acc: 0.9621 - val_loss: 0.3658 - val_acc: 0.8484\n"
     ]
    },
    {
     "data": {
      "text/plain": [
       "<keras.callbacks.History at 0x7f089fb44710>"
      ]
     },
     "execution_count": 33,
     "metadata": {},
     "output_type": "execute_result"
    }
   ],
   "source": [
    "#grid_result = grid.fit(X, y)\n",
    "model.fit([X, angle], y, \n",
    "          epochs=300, \n",
    "          validation_data=([X_test, angle_test], y_test), \n",
    "          batch_size=8, \n",
    "          callbacks=callbacks)"
   ]
  },
  {
   "cell_type": "code",
   "execution_count": null,
   "metadata": {},
   "outputs": [],
   "source": [
    "#print(\"Best: %f using %s\" % (grid_result.best_score_, grid_result.best_params_))\n",
    "#means = grid_result.cv_results_['mean_test_score']\n",
    "#stds = grid_result.cv_results_['std_test_score']\n",
    "#params = grid_result.cv_results_['params']\n",
    "#for mean, stdev, param in zip(means, stds, params):\n",
    "#    print(\"%f (%f) with: %r\" % (mean, stdev, param))"
   ]
  },
  {
   "cell_type": "code",
   "execution_count": null,
   "metadata": {},
   "outputs": [],
   "source": []
  },
  {
   "cell_type": "code",
   "execution_count": null,
   "metadata": {},
   "outputs": [],
   "source": [
    "from keras.models import model_from_json\n",
    "import os"
   ]
  },
  {
   "cell_type": "code",
   "execution_count": null,
   "metadata": {},
   "outputs": [],
   "source": [
    "model_json = model.to_json()\n",
    "with open('./model/covnet-v6.json', 'w') as json_file:\n",
    "    json_file.write(model_json)"
   ]
  },
  {
   "cell_type": "code",
   "execution_count": null,
   "metadata": {},
   "outputs": [],
   "source": [
    "json_file = open('./model/covnet-v6.json', 'r')\n",
    "model = model_from_json(json_file.read())\n",
    "json_file.close()\n",
    "\n",
    "model.load_weights(filepath=file_path)"
   ]
  },
  {
   "cell_type": "code",
   "execution_count": null,
   "metadata": {},
   "outputs": [],
   "source": [
    "model.save_weights('./model/covnet-v6.h5')"
   ]
  },
  {
   "cell_type": "code",
   "execution_count": null,
   "metadata": {},
   "outputs": [],
   "source": [
    "test = pd.read_json('../input/test.json')"
   ]
  },
  {
   "cell_type": "code",
   "execution_count": null,
   "metadata": {},
   "outputs": [],
   "source": [
    "test.head()"
   ]
  },
  {
   "cell_type": "code",
   "execution_count": null,
   "metadata": {},
   "outputs": [],
   "source": [
    "print(test.shape)\n",
    "rows = test.shape[0]"
   ]
  },
  {
   "cell_type": "code",
   "execution_count": null,
   "metadata": {},
   "outputs": [],
   "source": [
    "angle_test = np.array([x[3] for x in test.values])"
   ]
  },
  {
   "cell_type": "code",
   "execution_count": null,
   "metadata": {},
   "outputs": [],
   "source": [
    "test_bands = get_imgs(test)"
   ]
  },
  {
   "cell_type": "code",
   "execution_count": null,
   "metadata": {},
   "outputs": [],
   "source": [
    "#test_bands = np.array([x[0] + x[1] for x in test.values])\n",
    "test_bands = test_bands.reshape(rows, 75 * 75 * 3)"
   ]
  },
  {
   "cell_type": "code",
   "execution_count": null,
   "metadata": {},
   "outputs": [],
   "source": [
    "test_bands = scaler.transform(test_bands)\n",
    "angle_test = scaler_angle.transform(np.matrix(angle_test).T).reshape(rows)"
   ]
  },
  {
   "cell_type": "code",
   "execution_count": null,
   "metadata": {},
   "outputs": [],
   "source": [
    "test_bands.shape"
   ]
  },
  {
   "cell_type": "code",
   "execution_count": null,
   "metadata": {},
   "outputs": [],
   "source": [
    "#test_bands = np.reshape(test_bands, (8424, 75, 75, 2))\n",
    "test_bands = test_bands.reshape((rows, 75, 75, 3))"
   ]
  },
  {
   "cell_type": "code",
   "execution_count": null,
   "metadata": {},
   "outputs": [],
   "source": [
    "ids, is_iceberg = [], []"
   ]
  },
  {
   "cell_type": "code",
   "execution_count": null,
   "metadata": {},
   "outputs": [],
   "source": [
    "prediction = model.predict([test_bands, angle_test], verbose=1, batch_size=16)\n",
    "\n",
    "#for row in range(len(test_bands)):\n",
    "#    img = test_bands[row]\n",
    "#    angle = angle_test[row]\n",
    "#    ids.append(test.id[row])\n",
    "#    pred = model.predict(np.array([img]))\n",
    "#    is_iceberg.append(pred[0][0])\n",
    "\n",
    "#print(ids[:10], is_iceberg[:10])"
   ]
  },
  {
   "cell_type": "code",
   "execution_count": null,
   "metadata": {},
   "outputs": [],
   "source": [
    "prediction"
   ]
  },
  {
   "cell_type": "code",
   "execution_count": null,
   "metadata": {},
   "outputs": [],
   "source": [
    "submission = pd.DataFrame({'id': test[\"id\"], 'is_iceberg': prediction.reshape((prediction.shape[0]))})\n",
    "submission.head(10)"
   ]
  },
  {
   "cell_type": "code",
   "execution_count": null,
   "metadata": {},
   "outputs": [],
   "source": [
    "#df_result = pd.DataFrame({'id': ids,'is_iceberg': is_iceberg})"
   ]
  },
  {
   "cell_type": "code",
   "execution_count": null,
   "metadata": {},
   "outputs": [],
   "source": [
    "#df_result.head()"
   ]
  },
  {
   "cell_type": "code",
   "execution_count": null,
   "metadata": {},
   "outputs": [],
   "source": [
    "submission.to_csv('submission_v6.csv', encoding='utf-8', float_format='%.8f', index=False)"
   ]
  },
  {
   "cell_type": "code",
   "execution_count": null,
   "metadata": {},
   "outputs": [],
   "source": [
    "submission.is_iceberg.mean()"
   ]
  },
  {
   "cell_type": "code",
   "execution_count": null,
   "metadata": {},
   "outputs": [],
   "source": [
    "submission.is_iceberg.std()"
   ]
  },
  {
   "cell_type": "code",
   "execution_count": null,
   "metadata": {},
   "outputs": [],
   "source": []
  }
 ],
 "metadata": {
  "kernelspec": {
   "display_name": "Python 3",
   "language": "python",
   "name": "python3"
  },
  "language_info": {
   "codemirror_mode": {
    "name": "ipython",
    "version": 3
   },
   "file_extension": ".py",
   "mimetype": "text/x-python",
   "name": "python",
   "nbconvert_exporter": "python",
   "pygments_lexer": "ipython3",
   "version": "3.6.4"
  }
 },
 "nbformat": 4,
 "nbformat_minor": 2
}
